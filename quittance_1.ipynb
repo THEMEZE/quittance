{
 "cells": [
  {
   "cell_type": "code",
   "execution_count": 1,
   "id": "edf6c357-0954-422f-96e0-1b41f3843dff",
   "metadata": {},
   "outputs": [
    {
     "name": "stdout",
     "output_type": "stream",
     "text": [
      "Quittance générée : quittance.tex\n"
     ]
    }
   ],
   "source": [
    "import os\n",
    "\n",
    "# Fonction pour remplacer les champs {{}} dans le modèle\n",
    "def generer_quittance(donnees, modele_path=\"quittance_modele.tex\", sortie_path=\"quittance.tex\"):\n",
    "    with open(modele_path, 'r') as modele_file:\n",
    "        modele_content = modele_file.read()\n",
    "    \n",
    "    # Remplacer chaque champ dans le modèle par les valeurs du dictionnaire\n",
    "    for cle, valeur in donnees.items():\n",
    "        modele_content = modele_content.replace(f\"{{{{{cle}}}}}\", str(valeur))\n",
    "    \n",
    "    # Sauvegarder le fichier .tex généré\n",
    "    with open(sortie_path, 'w') as sortie_file:\n",
    "        sortie_file.write(modele_content)\n",
    "\n",
    "    print(f\"Quittance générée : {sortie_path}\")\n",
    "\n",
    "# Exemple de dictionnaire contenant les données de la quittance\n",
    "donnees_quittance = {\n",
    "    \"nom_locataire\": \"Jean Dupont\",\n",
    "    \"adresse_locataire\": \"123 Rue de Paris, 75001 Paris\",\n",
    "    \"periode\": \"Octobre 2024\",\n",
    "    \"montant\": 750,\n",
    "    \"date_paiement\": \"05/11/2024\",\n",
    "    \"nom_proprietaire\": \"Paul Martin\"\n",
    "}\n",
    "\n",
    "# Générer la quittance\n",
    "generer_quittance(donnees_quittance)\n"
   ]
  },
  {
   "cell_type": "code",
   "execution_count": null,
   "id": "2cee8d2d-b387-443a-b2c1-47ebe359e0bf",
   "metadata": {},
   "outputs": [],
   "source": []
  }
 ],
 "metadata": {
  "kernelspec": {
   "display_name": "Python 3 (ipykernel)",
   "language": "python",
   "name": "python3"
  },
  "language_info": {
   "codemirror_mode": {
    "name": "ipython",
    "version": 3
   },
   "file_extension": ".py",
   "mimetype": "text/x-python",
   "name": "python",
   "nbconvert_exporter": "python",
   "pygments_lexer": "ipython3",
   "version": "3.12.4"
  }
 },
 "nbformat": 4,
 "nbformat_minor": 5
}
