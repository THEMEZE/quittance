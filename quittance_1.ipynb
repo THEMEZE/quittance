{
 "cells": [
  {
   "cell_type": "code",
   "execution_count": 13,
   "id": "edf6c357-0954-422f-96e0-1b41f3843dff",
   "metadata": {},
   "outputs": [
    {
     "name": "stdout",
     "output_type": "stream",
     "text": [
      "Quittance générée : quittance.tex\n",
      "Compilation réussie : quittance.pdf\n",
      "Fichier supprimé : quittance.aux\n",
      "Fichier supprimé : quittance.log\n",
      "Fichier non trouvé : quittance.out\n"
     ]
    }
   ],
   "source": [
    "import os\n",
    "import subprocess\n",
    "\n",
    "# Fonction pour remplacer les champs {{}} dans le modèle\n",
    "def generer_quittance(donnees, modele_path=\"quittance_modele_2.tex\", sortie_path=\"quittance.tex\"):\n",
    "    with open(modele_path, 'r') as modele_file:\n",
    "        modele_content = modele_file.read()\n",
    "    \n",
    "    # Remplacer chaque champ dans le modèle par les valeurs du dictionnaire\n",
    "    for cle, valeur in donnees.items():\n",
    "        modele_content = modele_content.replace(f\"{{{{{cle}}}}}\", str(valeur))\n",
    "    \n",
    "    # Sauvegarder le fichier .tex généré\n",
    "    with open(sortie_path, 'w') as sortie_file:\n",
    "        sortie_file.write(modele_content)\n",
    "\n",
    "    print(f\"Quittance générée : {sortie_path}\")\n",
    "    \n",
    "    # Compiler le fichier .tex en PDF\n",
    "    compiler_quittance(sortie_path)\n",
    "    \n",
    "    # Nettoyer les fichiers auxiliaires\n",
    "    nettoyer_fichiers_auxiliaires(sortie_path)\n",
    "\n",
    "# Fonction pour compiler le fichier .tex en PDF avec pdflatex\n",
    "def compiler_quittance(fichier_tex):\n",
    "    try:\n",
    "        result = subprocess.run(['pdflatex', fichier_tex], check=True, capture_output=True, text=True)\n",
    "        print(f\"Compilation réussie : {fichier_tex.replace('.tex', '.pdf')}\")\n",
    "    except subprocess.CalledProcessError as e:\n",
    "        print(f\"Erreur lors de la compilation : {e.stderr}\")\n",
    "    except FileNotFoundError:\n",
    "        print(\"Erreur : pdflatex n'est pas installé. Veuillez installer LaTeX sur votre machine.\")\n",
    "\n",
    "# Fonction pour supprimer les fichiers auxiliaires générés lors de la compilation\n",
    "def nettoyer_fichiers_auxiliaires(fichier_tex):\n",
    "    # Obtenir le nom de fichier sans extension\n",
    "    base_name = os.path.splitext(fichier_tex)[0]\n",
    "    # Extensions des fichiers auxiliaires à supprimer\n",
    "    extensions_aux = ['.aux', '.log', '.out']\n",
    "    \n",
    "    for ext in extensions_aux:\n",
    "        fichier_aux = base_name + ext\n",
    "        if os.path.exists(fichier_aux):\n",
    "            os.remove(fichier_aux)\n",
    "            print(f\"Fichier supprimé : {fichier_aux}\")\n",
    "        else:\n",
    "            print(f\"Fichier non trouvé : {fichier_aux}\")\n",
    "\n",
    "# Exemple de données pour la quittance\n",
    "donnees_quittance = {\n",
    "    \"genre_proprietaire\": \"Monsieur\",\n",
    "    \"nom_proprietaire\": \"Paul Martin\",\n",
    "    \"demeurant_genre_proprietaire\": \"demeurant\",\n",
    "    \"adresse_proprietaire\": \"456 Rue de Lyon, 69001 Lyon\",\n",
    "    \"tel_proprietaire\": \"0606060606\",\n",
    "    \"mail_proprietaire\": \"paul.martin@example.com\",\n",
    "    \n",
    "    \"genre_locataire\": \"Monsieur\",\n",
    "    \"nom_locataire\": \"Jean Dupont\",\n",
    "    \"Ne_genre\": \"Né\",\n",
    "    \"naissance_locataire\": \"01/01/1980\",\n",
    "    \"demeurant_genre_locataire\": \"demeurant\",\n",
    "    \"adresse_locataire\": \"123 Rue de Paris, 75001 Paris\",\n",
    "    \"preffession_locataire\": \"Ingénieur\",\n",
    "    \"tel_locataire\": \"0707070707\",\n",
    "    \"mail_locataire\": \"jean.dupont@example.com\",\n",
    "}\n",
    "\n",
    "# Générer la quittance\n",
    "generer_quittance(donnees_quittance)\n"
   ]
  },
  {
   "cell_type": "code",
   "execution_count": null,
   "id": "2cee8d2d-b387-443a-b2c1-47ebe359e0bf",
   "metadata": {},
   "outputs": [],
   "source": []
  }
 ],
 "metadata": {
  "kernelspec": {
   "display_name": "Python 3 (ipykernel)",
   "language": "python",
   "name": "python3"
  },
  "language_info": {
   "codemirror_mode": {
    "name": "ipython",
    "version": 3
   },
   "file_extension": ".py",
   "mimetype": "text/x-python",
   "name": "python",
   "nbconvert_exporter": "python",
   "pygments_lexer": "ipython3",
   "version": "3.12.4"
  }
 },
 "nbformat": 4,
 "nbformat_minor": 5
}
